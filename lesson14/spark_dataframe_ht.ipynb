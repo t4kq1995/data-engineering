{
 "cells": [
  {
   "cell_type": "code",
   "execution_count": 211,
   "metadata": {
    "collapsed": true,
    "ExecuteTime": {
     "end_time": "2024-02-04T12:02:58.475142236Z",
     "start_time": "2024-02-04T12:02:58.466785954Z"
    }
   },
   "outputs": [],
   "source": [
    "from pyspark.sql import SparkSession\n",
    "from pyspark.sql.functions import count, desc, concat, lit, sum, max"
   ]
  },
  {
   "cell_type": "code",
   "execution_count": 212,
   "metadata": {
    "collapsed": false,
    "pycharm": {
     "is_executing": true
    },
    "ExecuteTime": {
     "end_time": "2024-02-04T12:02:58.515153958Z",
     "start_time": "2024-02-04T12:02:58.475358821Z"
    }
   },
   "outputs": [],
   "source": [
    "spark = SparkSession.builder.master('local[*]').getOrCreate()"
   ]
  },
  {
   "cell_type": "code",
   "execution_count": 213,
   "metadata": {
    "collapsed": false,
    "ExecuteTime": {
     "end_time": "2024-02-04T12:02:58.554054137Z",
     "start_time": "2024-02-04T12:02:58.552786109Z"
    }
   },
   "outputs": [
    {
     "name": "stdout",
     "output_type": "stream",
     "text": [
      "3.4.1\n"
     ]
    }
   ],
   "source": [
    "print(spark.version)"
   ]
  },
  {
   "cell_type": "code",
   "execution_count": 214,
   "metadata": {
    "collapsed": false,
    "ExecuteTime": {
     "end_time": "2024-02-04T12:02:59.221400460Z",
     "start_time": "2024-02-04T12:02:58.552983565Z"
    }
   },
   "outputs": [],
   "source": [
    "actor_df = spark.read.csv('./data/actor.csv', header=True, inferSchema=True)\n",
    "address_df = spark.read.csv('./data/address.csv', header=True, inferSchema=True)\n",
    "category_df = spark.read.csv('./data/category.csv', header=True, inferSchema=True)\n",
    "city_df = spark.read.csv('./data/city.csv', header=True, inferSchema=True)\n",
    "country_df = spark.read.csv('./data/country.csv', header=True, inferSchema=True)\n",
    "customer_df = spark.read.csv('./data/customer.csv', header=True, inferSchema=True)\n",
    "film_df = spark.read.csv('./data/film.csv', header=True, inferSchema=True)\n",
    "film_actor_df = spark.read.csv('./data/film_actor.csv', header=True, inferSchema=True)\n",
    "film_category_df = spark.read.csv('./data/film_category.csv', header=True, inferSchema=True)\n",
    "inventory_df = spark.read.csv('./data/inventory.csv', header=True, inferSchema=True)\n",
    "language_df = spark.read.csv('./data/language.csv', header=True, inferSchema=True)\n",
    "payment_df = spark.read.csv('./data/payment.csv', header=True, inferSchema=True)\n",
    "rental_df = spark.read.csv('./data/rental.csv', header=True, inferSchema=True)\n",
    "staff_df = spark.read.csv('./data/staff.csv', header=True, inferSchema=True)\n",
    "store_df = spark.read.csv('./data/store.csv', header=True, inferSchema=True)"
   ]
  },
  {
   "cell_type": "markdown",
   "metadata": {
    "collapsed": false
   },
   "source": [
    "# Домашнє завдання на тему Spark SQL\n",
    "\n",
    "Задачі з домашнього завдання на SQL потрібно розвʼязати за допомогою Spark SQL DataFrame API.\n",
    "\n",
    "- Дампи таблиць знаходяться в папці `data`. Датафрейми таблиць вже створені в клітинці вище.\n",
    "- Можете створювати стільки нових клітинок, скільки вам необхідно.\n",
    "- Розвʼязок кожної задачі має бути відображений в самому файлі (використати метод `.show()`)\n",
    "- код має бути оформлений у відповідності із одним із стилем, показаним лектором на занятті 13.\n",
    "\n",
    "**Увага!**\n",
    "Використовувати мову запитів SQL безпосередньо забороняється, потрібно використовувати виключно DataFrame API!\n"
   ]
  },
  {
   "cell_type": "markdown",
   "metadata": {
    "collapsed": false
   },
   "source": [
    "1.\n",
    "Вивести кількість фільмів в кожній категорії.\n",
    "Результат відсортувати за спаданням."
   ]
  },
  {
   "cell_type": "code",
   "execution_count": 215,
   "metadata": {
    "collapsed": false,
    "ExecuteTime": {
     "end_time": "2024-02-04T12:02:59.353282039Z",
     "start_time": "2024-02-04T12:02:59.222973981Z"
    }
   },
   "outputs": [
    {
     "name": "stdout",
     "output_type": "stream",
     "text": [
      "+-----------+-----------+\n",
      "|   category|total_films|\n",
      "+-----------+-----------+\n",
      "|     Sports|         74|\n",
      "|    Foreign|         73|\n",
      "|     Family|         69|\n",
      "|Documentary|         68|\n",
      "|  Animation|         66|\n",
      "|     Action|         64|\n",
      "|        New|         63|\n",
      "|      Drama|         62|\n",
      "|      Games|         61|\n",
      "|     Sci-Fi|         61|\n",
      "|   Children|         60|\n",
      "|     Comedy|         58|\n",
      "|     Travel|         57|\n",
      "|   Classics|         57|\n",
      "|     Horror|         56|\n",
      "|      Music|         51|\n",
      "+-----------+-----------+\n"
     ]
    }
   ],
   "source": [
    "joined_df = film_category_df.join(\n",
    "    category_df, film_category_df.category_id == category_df.category_id\n",
    ").select(\n",
    "    film_category_df[\"film_id\"], category_df[\"name\"].alias(\"category\")\n",
    ")\n",
    "result_df = joined_df.groupBy(\"category\").agg(\n",
    "    count(\"film_id\").alias(\"total_films\")\n",
    ")\n",
    "result_df = result_df.orderBy(\n",
    "    desc(\"total_films\")\n",
    ")\n",
    "result_df.show()"
   ]
  },
  {
   "cell_type": "markdown",
   "metadata": {
    "collapsed": false
   },
   "source": [
    "2.\n",
    "Вивести 10 акторів, чиї фільми брали на прокат найбільше.\n",
    "Результат відсортувати за спаданням."
   ]
  },
  {
   "cell_type": "code",
   "execution_count": 216,
   "metadata": {
    "collapsed": false,
    "ExecuteTime": {
     "end_time": "2024-02-04T12:02:59.396205980Z",
     "start_time": "2024-02-04T12:02:59.328827285Z"
    }
   },
   "outputs": [
    {
     "name": "stdout",
     "output_type": "stream",
     "text": [
      "+----------------+\n",
      "|           actor|\n",
      "+----------------+\n",
      "|   DEBBIE AKROYD|\n",
      "|      RENEE BALL|\n",
      "|  JENNIFER DAVIS|\n",
      "|   ANGELA HUDSON|\n",
      "|JEFF SILVERSTONE|\n",
      "|   RUSSELL CLOSE|\n",
      "|   LUCILLE TRACY|\n",
      "|   SANDRA KILMER|\n",
      "|  AUDREY OLIVIER|\n",
      "| PENELOPE CRONYN|\n",
      "+----------------+\n"
     ]
    }
   ],
   "source": [
    "top_rental_films_actors = rental_df.join(\n",
    "    inventory_df, rental_df.inventory_id == inventory_df.inventory_id, \"left\"\n",
    ").join(\n",
    "    film_actor_df, inventory_df.film_id == film_actor_df.film_id, \"left\"\n",
    ").select(\n",
    "    inventory_df[\"film_id\"], film_actor_df[\"actor_id\"]\n",
    ")\n",
    "top_rental_films_actors = top_rental_films_actors.groupBy(\n",
    "    inventory_df.film_id, film_actor_df.actor_id\n",
    ").agg(\n",
    "    count(inventory_df.film_id).alias(\"rental_count\")\n",
    ")\n",
    "top_rental_films_actors = top_rental_films_actors.orderBy(\n",
    "    desc(\"rental_count\")\n",
    ")\n",
    "\n",
    "result_df = top_rental_films_actors.join(\n",
    "    actor_df, top_rental_films_actors.actor_id == actor_df.actor_id\n",
    ").select(\n",
    "    concat(actor_df[\"first_name\"], lit(\" \"), actor_df[\"last_name\"]).alias(\"actor\")\n",
    ").limit(10)\n",
    "result_df.show()"
   ]
  },
  {
   "cell_type": "markdown",
   "metadata": {
    "collapsed": false
   },
   "source": [
    "3.\n",
    "Вивести категорія фільмів, на яку було витрачено найбільше грошей\n",
    "в прокаті"
   ]
  },
  {
   "cell_type": "code",
   "execution_count": 217,
   "metadata": {
    "collapsed": false,
    "ExecuteTime": {
     "end_time": "2024-02-04T12:02:59.643382352Z",
     "start_time": "2024-02-04T12:02:59.394665149Z"
    }
   },
   "outputs": [
    {
     "name": "stdout",
     "output_type": "stream",
     "text": [
      "+--------+\n",
      "|category|\n",
      "+--------+\n",
      "|  Sports|\n",
      "+--------+\n"
     ]
    }
   ],
   "source": [
    "payment_by_category = payment_df.join(\n",
    "    rental_df, payment_df.rental_id == rental_df.rental_id\n",
    ").join(\n",
    "    inventory_df, rental_df.inventory_id == inventory_df.inventory_id\n",
    ").join(\n",
    "    film_category_df, inventory_df.film_id == film_category_df.film_id\n",
    ").join(\n",
    "    category_df, film_category_df.category_id == category_df.category_id\n",
    ").select(payment_df[\"amount\"], category_df[\"name\"])\n",
    "payment_by_category = payment_by_category.groupBy(\n",
    "    category_df[\"name\"]\n",
    ").agg(\n",
    "    sum(payment_df[\"amount\"]).alias(\"total\")\n",
    ")\n",
    "\n",
    "max_payment_by_category = payment_by_category.agg(\n",
    "    max(\"total\").alias(\"max_total\")\n",
    ").collect()[0][\"max_total\"]\n",
    "\n",
    "result_df = payment_by_category.select(\n",
    "    payment_by_category[\"name\"].alias(\"category\")\n",
    ").filter(\n",
    "    payment_by_category[\"total\"] == max_payment_by_category\n",
    ")\n",
    "result_df.show()"
   ]
  },
  {
   "cell_type": "markdown",
   "metadata": {
    "collapsed": false
   },
   "source": [
    "4.\n",
    "Вивести назви фільмів, яких не має в inventory."
   ]
  },
  {
   "cell_type": "code",
   "execution_count": 218,
   "metadata": {
    "collapsed": false,
    "ExecuteTime": {
     "end_time": "2024-02-04T12:02:59.701150843Z",
     "start_time": "2024-02-04T12:02:59.642569240Z"
    }
   },
   "outputs": [
    {
     "name": "stdout",
     "output_type": "stream",
     "text": [
      "+--------------------+\n",
      "|               title|\n",
      "+--------------------+\n",
      "|      ALICE FANTASIA|\n",
      "|         APOLLO TEEN|\n",
      "|      ARGONAUTS TOWN|\n",
      "|       ARK RIDGEMONT|\n",
      "|ARSENIC INDEPENDENCE|\n",
      "|   BOONDOCK BALLROOM|\n",
      "|       BUTCH PANTHER|\n",
      "|       CATCH AMISTAD|\n",
      "| CHINATOWN GLADIATOR|\n",
      "|      CHOCOLATE DUCK|\n",
      "|COMMANDMENTS EXPRESS|\n",
      "|    CROSSING DIVORCE|\n",
      "|     CROWDS TELEMARK|\n",
      "|    CRYSTAL BREAKING|\n",
      "|          DAZED PUNK|\n",
      "|DELIVERANCE MULHO...|\n",
      "|   FIREHOUSE VIETNAM|\n",
      "|       FLOATS GARDEN|\n",
      "|FRANKENSTEIN STRA...|\n",
      "|  GLADIATOR WESTWARD|\n",
      "+--------------------+\n"
     ]
    }
   ],
   "source": [
    "result_df = film_df.join(\n",
    "    inventory_df, film_df.film_id == inventory_df.film_id, \"left\"\n",
    ").select(\n",
    "    film_df[\"title\"]\n",
    ").filter(\n",
    "    inventory_df[\"film_id\"].isNull()\n",
    ")\n",
    "result_df.show()"
   ]
  },
  {
   "cell_type": "markdown",
   "metadata": {
    "collapsed": false
   },
   "source": [
    "5.\n",
    "Вивести топ 3 актори, які найбільше зʼявлялись в категорії фільмів “Children”"
   ]
  },
  {
   "cell_type": "code",
   "execution_count": 219,
   "metadata": {
    "collapsed": false,
    "pycharm": {
     "is_executing": true
    },
    "ExecuteTime": {
     "end_time": "2024-02-04T12:02:59.794927152Z",
     "start_time": "2024-02-04T12:02:59.692439395Z"
    }
   },
   "outputs": [
    {
     "name": "stdout",
     "output_type": "stream",
     "text": [
      "+----------------+\n",
      "|           actor|\n",
      "+----------------+\n",
      "|       EMILY DEE|\n",
      "| MORGAN WILLIAMS|\n",
      "|MINNIE ZELLWEGER|\n",
      "+----------------+\n"
     ]
    }
   ],
   "source": [
    "children_category_films = film_category_df.join(\n",
    "    category_df, film_category_df.category_id == category_df.category_id, \"left\"\n",
    ").select(\n",
    "    film_category_df[\"film_id\"]\n",
    ").filter(\n",
    "    category_df[\"name\"] == 'Children'\n",
    ")\n",
    "\n",
    "filmography_of_actor = children_category_films.join(\n",
    "    film_actor_df, children_category_films.film_id == film_actor_df.film_id, \"left\"\n",
    ").select(\n",
    "    film_actor_df[\"actor_id\"], children_category_films[\"film_id\"]\n",
    ").groupBy(\n",
    "    film_actor_df.actor_id\n",
    ").agg(\n",
    "    count(children_category_films.film_id).alias(\"total_films\")\n",
    ")\n",
    "\n",
    "result_df = filmography_of_actor.join(\n",
    "    actor_df, filmography_of_actor.actor_id == actor_df.actor_id, \"left\"\n",
    ").select(\n",
    "    concat(actor_df[\"first_name\"], lit(\" \"), actor_df[\"last_name\"]).alias(\"actor\")\n",
    ").limit(3)\n",
    "\n",
    "result_df.show()"
   ]
  },
  {
   "cell_type": "markdown",
   "metadata": {
    "collapsed": false
   },
   "source": [
    "Stop Spark session:"
   ]
  },
  {
   "cell_type": "code",
   "execution_count": 220,
   "metadata": {
    "collapsed": false,
    "ExecuteTime": {
     "end_time": "2024-02-04T12:03:00.006683835Z",
     "start_time": "2024-02-04T12:02:59.796893745Z"
    }
   },
   "outputs": [],
   "source": [
    "spark.stop()"
   ]
  }
 ],
 "metadata": {
  "kernelspec": {
   "display_name": "Python 3",
   "language": "python",
   "name": "python3"
  },
  "language_info": {
   "codemirror_mode": {
    "name": "ipython",
    "version": 2
   },
   "file_extension": ".py",
   "mimetype": "text/x-python",
   "name": "python",
   "nbconvert_exporter": "python",
   "pygments_lexer": "ipython2",
   "version": "2.7.6"
  }
 },
 "nbformat": 4,
 "nbformat_minor": 0
}
